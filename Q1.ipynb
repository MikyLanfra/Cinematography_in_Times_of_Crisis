{
 "cells": [
  {
   "cell_type": "code",
   "execution_count": 1,
   "metadata": {},
   "outputs": [
    {
     "name": "stdout",
     "output_type": "stream",
     "text": [
      "               WarName       StateName  Side  StartYear  EndYear  Outcome  \\\n",
      "0   Franco-Spanish War           Spain     2       1823     1823        2   \n",
      "1   Franco-Spanish War          France     1       1823     1823        1   \n",
      "2  First Russo-Turkish  Ottoman Empire     2       1828     1829        2   \n",
      "3  First Russo-Turkish          Russia     1       1828     1829        1   \n",
      "4     Mexican-American          Mexico     2       1846     1847        2   \n",
      "\n",
      "   BatDeath  \n",
      "0       600  \n",
      "1       400  \n",
      "2     80000  \n",
      "3     50000  \n",
      "4      6000  \n",
      "Index(['WarName', 'Side', 'StartYear', 'EndYear', 'StateName', 'BatDeath'], dtype='object')\n",
      "                                               WarName  \\\n",
      "0                                        Anglo-Persian   \n",
      "1                                        Anglo-Persian   \n",
      "2                                         Arab-Israeli   \n",
      "3                                         Arab-Israeli   \n",
      "4                                                Assam   \n",
      "..                                                 ...   \n",
      "192                                 Russo-Georgian War   \n",
      "193  2011 military intervention in Libya Part of th...   \n",
      "194  2011 military intervention in Libya Part of th...   \n",
      "195                                      Heglig Crisis   \n",
      "196                                      Heglig Crisis   \n",
      "\n",
      "                                            Side  StartYear  EndYear  \\\n",
      "0                                              1       1856     1857   \n",
      "1                                              2       1856     1857   \n",
      "2                                              1       1948     1948   \n",
      "3                                              2       1948     1948   \n",
      "4                                              1       1962     1962   \n",
      "..                                           ...        ...      ...   \n",
      "192                                      Georgia          2     2008   \n",
      "193  [NATO, Qatar, Sweden, United Arab Emirates]          1     2011   \n",
      "194                                        Libya          2     2011   \n",
      "195                                        Sudan          1     2013   \n",
      "196                                  South Sudan          2     2013   \n",
      "\n",
      "                                 StateName  BatDeath  \n",
      "0                         [United Kingdom]       500  \n",
      "1                                   [Iran]      1500  \n",
      "2                                 [Israel]      3000  \n",
      "3    [Egypt, Syria, Lebanon, Jordan, Iraq]      5000  \n",
      "4                            [China (PRC)]       500  \n",
      "..                                     ...       ...  \n",
      "192                                   2008       734  \n",
      "193                                   2011       238  \n",
      "194                                   2011       238  \n",
      "195                                     -7       900  \n",
      "196                                     -7       900  \n",
      "\n",
      "[197 rows x 6 columns]\n",
      "         WarName Side  StartYear  EndYear  \\\n",
      "0  Anglo-Persian    1       1856     1857   \n",
      "1  Anglo-Persian    2       1856     1857   \n",
      "2   Arab-Israeli    1       1948     1948   \n",
      "3   Arab-Israeli    2       1948     1948   \n",
      "4          Assam    1       1962     1962   \n",
      "\n",
      "                               StateName  BatDeath  \n",
      "0                       [United Kingdom]       500  \n",
      "1                                 [Iran]      1500  \n",
      "2                               [Israel]      3000  \n",
      "3  [Egypt, Syria, Lebanon, Jordan, Iraq]      5000  \n",
      "4                          [China (PRC)]       500  \n",
      "(197, 6)\n"
     ]
    }
   ],
   "source": [
    "import pandas as pd\n",
    "from collections import Counter\n",
    "import ast\n",
    "import numpy as np\n",
    "import matplotlib.pyplot as plt\n",
    "import seaborn as sns\n",
    "from src.utils.genres import *\n",
    "from src.utils.genres import name_plot, count_genre_over_years, top_years_for_genre, bottom_years_for_genre, count_genres_by_year, calc_genre_differences, calc_genre_growth, calc_proportion_growth\n",
    "import warnings\n",
    "import csv\n",
    "import re\n",
    "import nltk\n",
    "from nltk.tokenize import word_tokenize\n",
    "from nltk.corpus import stopwords\n",
    "from nltk.stem import WordNetLemmatizer\n",
    "from nltk import ne_chunk\n",
    "from nltk.sentiment import SentimentIntensityAnalyzer\n",
    "from src.utils import google_trends as gt\n",
    "from data.Cleaning import final_df\n",
    "warnings.simplefilter(\"ignore\")"
   ]
  },
  {
   "cell_type": "code",
   "execution_count": null,
   "metadata": {},
   "outputs": [],
   "source": [
    "# Import data\n",
    "data = pd.read_csv(\"data/filtered_movie_data.csv\")\n",
    "df = pd.DataFrame(data)"
   ]
  },
  {
   "cell_type": "code",
   "execution_count": null,
   "metadata": {},
   "outputs": [],
   "source": []
  }
 ],
 "metadata": {
  "kernelspec": {
   "display_name": "base",
   "language": "python",
   "name": "python3"
  },
  "language_info": {
   "codemirror_mode": {
    "name": "ipython",
    "version": 3
   },
   "file_extension": ".py",
   "mimetype": "text/x-python",
   "name": "python",
   "nbconvert_exporter": "python",
   "pygments_lexer": "ipython3",
   "version": "3.12.4"
  }
 },
 "nbformat": 4,
 "nbformat_minor": 2
}
